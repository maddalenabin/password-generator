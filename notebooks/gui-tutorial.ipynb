{
 "cells": [
  {
   "cell_type": "markdown",
   "metadata": {},
   "source": [
    "# Password generator\n",
    "Taken from a [webpage](https://data-flair.training/blogs/python-password-generator/)"
   ]
  },
  {
   "cell_type": "code",
   "execution_count": 1,
   "metadata": {},
   "outputs": [],
   "source": [
    "from tkinter import *\n",
    "import random, string\n",
    "import pyperclip"
   ]
  },
  {
   "cell_type": "markdown",
   "metadata": {},
   "source": [
    "## Initialize window\n",
    "* `Tk()` initialized tkinter which means window created\n",
    "* `geometry()` set the width and height of the window\n",
    "* `resizable(0,0)` set the fixed size of the window\n",
    "* `title()` set the title of the window"
   ]
  },
  {
   "cell_type": "code",
   "execution_count": 2,
   "metadata": {},
   "outputs": [
    {
     "data": {
      "text/plain": [
       "''"
      ]
     },
     "execution_count": 2,
     "metadata": {},
     "output_type": "execute_result"
    }
   ],
   "source": [
    "root = Tk()\n",
    "root.geometry(\"400x400\")\n",
    "root.resizable(0,0)\n",
    "root.title(\"DataFlair - PASSWORD GENERATOR\")"
   ]
  },
  {
   "cell_type": "markdown",
   "metadata": {},
   "source": [
    "`Label()` widget use to display one or more than one line of text that users can’t able to modify.\n",
    "\n",
    "* `root` is the name which we refer to our window\n",
    "* `text` which we display on the label\n",
    "* `font` in which the text is written\n",
    "* `pack` organized widget in block"
   ]
  },
  {
   "cell_type": "code",
   "execution_count": 5,
   "metadata": {},
   "outputs": [],
   "source": [
    "Label(root, text = 'PASSWORD GENERATOR' , font ='arial 15 bold').pack()\n",
    "Label(root, text ='DataFlair', font ='arial 15 bold').pack(side = BOTTOM)"
   ]
  },
  {
   "cell_type": "markdown",
   "metadata": {},
   "source": [
    "## Select password length"
   ]
  },
  {
   "cell_type": "markdown",
   "metadata": {},
   "source": [
    "* `pass_len` is an integer type variable that stores the length of a password.\n",
    "* To select the password length we use `Spinbox()` widget.\n",
    "* `Spinbox()` widget is used to select from a fixed number of values. Here the value from 8 to 32"
   ]
  },
  {
   "cell_type": "code",
   "execution_count": 6,
   "metadata": {},
   "outputs": [],
   "source": [
    "pass_label = Label(root, text = 'PASSWORD LENGTH', font = 'arial 10 bold').pack()\n",
    "pass_len = IntVar()\n",
    "length = Spinbox(root, from_=8, to_=32, textvariable=pass_len, width=15).pack()"
   ]
  },
  {
   "cell_type": "markdown",
   "metadata": {},
   "source": [
    "## Function to generate passwords"
   ]
  },
  {
   "cell_type": "code",
   "execution_count": 7,
   "metadata": {},
   "outputs": [],
   "source": [
    "pass_str = StringVar()\n",
    "def Generator():\n",
    "    password = ''\n",
    "    for x in range (0,4):\n",
    "        password = random.choice(string.ascii_uppercase) + random.choice(string.ascii_lowercase) + random.choice(string.digits) + random.choice(string.punctuation)\n",
    "    for y in range(pass_len.get()- 4):\n",
    "        password = password + random.choice(string.ascii_uppercase + string.ascii_lowercase + string.digits + string.punctuation)\n",
    "    pass_str.set(password)"
   ]
  },
  {
   "cell_type": "markdown",
   "metadata": {},
   "source": [
    "* `pass_str` is a `string` type variable that stores the generated password\n",
    "* `password = “”` is the empty string\n",
    "* First loop will generate a string of length 4 which is a combination of an uppercase letter, a lowercase letter, digits, and a special symbol and that string will store in password variable.\n",
    "* The second loop will generate a random string of length entered by the user – 4 and add to the password variable. Here we minus 4 to the length of the user because we already generate the string of length 4.\n"
   ]
  },
  {
   "cell_type": "markdown",
   "metadata": {},
   "source": [
    "We have done this because we want a password which must contain an uppercase, a lowercase, a digit, and a special symbol.\n",
    "\n",
    "Now the password is set to the `pass_str()` variable."
   ]
  },
  {
   "cell_type": "code",
   "execution_count": 9,
   "metadata": {},
   "outputs": [],
   "source": [
    "Button(root, text = \"GENERATE PASSWORD\" , command = Generator ).pack(pady= 5)\n",
    "Entry(root , textvariable = pass_str).pack()"
   ]
  },
  {
   "cell_type": "markdown",
   "metadata": {},
   "source": [
    "* `Button()` widget used to display button on our window\n",
    "* `command` is called when the button is click\n",
    "* `Entry()` widget used to create an input text field\n",
    "* `textvariable` used to retrieve the current text to the entry widget"
   ]
  },
  {
   "cell_type": "markdown",
   "metadata": {},
   "source": [
    "## Function to copypassword"
   ]
  },
  {
   "cell_type": "code",
   "execution_count": 10,
   "metadata": {},
   "outputs": [],
   "source": [
    "def Copy_password():\n",
    "    pyperclip.copy(pass_str.get())\n",
    "Button(root, text = 'COPY TO CLIPBOARD', command = Copy_password).pack(pady=5)"
   ]
  },
  {
   "cell_type": "code",
   "execution_count": null,
   "metadata": {},
   "outputs": [],
   "source": []
  }
 ],
 "metadata": {
  "kernelspec": {
   "display_name": "Python 3.9.7 ('base')",
   "language": "python",
   "name": "python3"
  },
  "language_info": {
   "codemirror_mode": {
    "name": "ipython",
    "version": 3
   },
   "file_extension": ".py",
   "mimetype": "text/x-python",
   "name": "python",
   "nbconvert_exporter": "python",
   "pygments_lexer": "ipython3",
   "version": "3.9.7"
  },
  "orig_nbformat": 4,
  "vscode": {
   "interpreter": {
    "hash": "cd78fef2128015050713e82ca51c6520b11aee7c9ee8df750520bbbc7384cbaa"
   }
  }
 },
 "nbformat": 4,
 "nbformat_minor": 2
}
